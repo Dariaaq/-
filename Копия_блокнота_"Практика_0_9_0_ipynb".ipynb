{
  "nbformat": 4,
  "nbformat_minor": 0,
  "metadata": {
    "colab": {
      "provenance": [],
      "include_colab_link": true
    },
    "kernelspec": {
      "name": "python3",
      "display_name": "Python 3"
    },
    "language_info": {
      "name": "python"
    }
  },
  "cells": [
    {
      "cell_type": "markdown",
      "metadata": {
        "id": "view-in-github",
        "colab_type": "text"
      },
      "source": [
        "<a href=\"https://colab.research.google.com/github/Dariaaq/-/blob/main/%D0%9A%D0%BE%D0%BF%D0%B8%D1%8F_%D0%B1%D0%BB%D0%BE%D0%BA%D0%BD%D0%BE%D1%82%D0%B0_%22%D0%9F%D1%80%D0%B0%D0%BA%D1%82%D0%B8%D0%BA%D0%B0_0_9_0_ipynb%22.ipynb\" target=\"_parent\"><img src=\"https://colab.research.google.com/assets/colab-badge.svg\" alt=\"Open In Colab\"/></a>"
      ]
    },
    {
      "cell_type": "markdown",
      "source": [
        "ФИО"
      ],
      "metadata": {
        "id": "8hJfL9b2l439"
      }
    },
    {
      "cell_type": "code",
      "source": [
        "Аносова Дарья Александровна"
      ],
      "metadata": {
        "id": "wRnqvYOkl6EX"
      },
      "execution_count": null,
      "outputs": []
    },
    {
      "cell_type": "markdown",
      "source": [
        "# Дисклеймер"
      ],
      "metadata": {
        "id": "weOtPwPQmgpD"
      }
    },
    {
      "cell_type": "markdown",
      "source": [
        "В данной практике вам необходимо применить все ваши знания по темам:\n",
        "\n",
        "- Функции\n",
        "- Словари\n",
        "- Списки\n",
        "- Множества\n",
        "- Условные конструкции\n",
        "- Запросы\n",
        "\n",
        "и все что было изучено на прошлых практических занятиях\n",
        "\n",
        "В каждом задании кратко описаны функции, которые необходимо реализовать, детали реализации вы должны продумать самостоятельно"
      ],
      "metadata": {
        "id": "LznB3uscmjDa"
      }
    },
    {
      "cell_type": "markdown",
      "source": [
        "# Задание 0"
      ],
      "metadata": {
        "id": "7nSJIqkTvC_C"
      }
    },
    {
      "cell_type": "markdown",
      "source": [
        "Создайте функцию по нахождению уникальных элементов из двух списков\n",
        "\n",
        "\n",
        "\n",
        "```\n",
        "a = [1, 2, 3, 4]\n",
        "b = [3, 4, 5, 6]\n",
        "```\n",
        "\n"
      ],
      "metadata": {
        "id": "exACjTiVvGUe"
      }
    },
    {
      "cell_type": "code",
      "source": [
        "def uniq_el(list1, list2):\n",
        "    set1 = set(list1)\n",
        "    set2 = set(list2)\n",
        "\n",
        "    uniq_in_list1 = set1 - set2\n",
        "    uniq_in_list2 = set2 - set1\n",
        "\n",
        "    uniq_el = list(uniq_in_list1.union(uniq_in_list2))\n",
        "\n",
        "    return uniq_el\n",
        "\n",
        "a = [1, 2, 3, 4]\n",
        "b = [3, 4, 5, 6]\n",
        "result = uniq_el(a, b)\n",
        "print(result)"
      ],
      "metadata": {
        "id": "dQheNSYd4nd2",
        "colab": {
          "base_uri": "https://localhost:8080/"
        },
        "outputId": "e3fffe28-e947-4259-bc72-57e4d440bfab"
      },
      "execution_count": null,
      "outputs": [
        {
          "output_type": "stream",
          "name": "stdout",
          "text": [
            "[1, 2, 5, 6]\n"
          ]
        }
      ]
    },
    {
      "cell_type": "markdown",
      "source": [
        "# Задание 1"
      ],
      "metadata": {
        "id": "SVWNlBALpCNo"
      }
    },
    {
      "cell_type": "markdown",
      "source": [
        "Симулятор виртуального питомца\n",
        "\n",
        "Цель: создать виртуальный симулятор домашних животных, в котором пользователи смогут заводить питомцев и ухаживать за ними.\n",
        "\n",
        "Требования:\n",
        "\n",
        "- Функция для усыновления питомца (имя, тип, возраст).\n",
        "- Функция для того, чтобы покормить питомца, поиграть с ним или уложить его спать.\n",
        "- Функция для отображения состояния питомца (голод, радость, энергия)."
      ],
      "metadata": {
        "id": "RcKA-VEqpC7f"
      }
    },
    {
      "cell_type": "code",
      "source": [
        "def adopt_pet():\n",
        "    name = input(\"Введите имя питомца: \")\n",
        "    type_pet = input(\"Введите питомца (собака, кошка): \")\n",
        "    age = int(input(\"Введите возраст питомца (годы): \"))\n",
        "    return {\n",
        "        \"name\": name,\n",
        "        \"type\": type_pet,\n",
        "        \"age\": age,\n",
        "        \"hunger\": 5,\n",
        "        \"happiness\": 5,\n",
        "        \"energy\": 5\n",
        "    }\n",
        "\n",
        "\n",
        "def feed_pet(pet):\n",
        "    pet[\"hunger\"] -= 1\n",
        "    pet[\"happiness\"] += 1\n",
        "    pet[\"energy\"] += 1\n",
        "    print(f\"{pet['name']} покормлен!\")\n",
        "\n",
        "\n",
        "def play_with_pet(pet):\n",
        "    pet[\"happiness\"] += 1\n",
        "    pet[\"energy\"] -= 1\n",
        "    print(f\"{pet['name']} поиграл!\")\n",
        "\n",
        "\n",
        "def pet_to_sleep(pet):\n",
        "    pet[\"energy\"] += 2\n",
        "    print(f\"{pet['name']} уснул!\")\n",
        "\n",
        "\n",
        "def pet_status(pet):\n",
        "    print(f\"Состояние питомца {pet['name']}:\")\n",
        "\n",
        "\n",
        "    print(f\"Тип: {pet['type']}, Возраст: лет\")\n",
        "    print(f\"Голод: {pet['hunger']}, Радость: {pet['happiness']}, Энергия: {pet['energy']}\")\n",
        "\n",
        "\n",
        "def main():\n",
        "    pet = adopt_pet()\n",
        "\n",
        "    while True:\n",
        "        print(\"\\nВыберите действие:\")\n",
        "        print(\"1. Покормить питомца\")\n",
        "        print(\"2. Поиграть с питомцем\")\n",
        "        print(\"3. Уложить питомца спать\")\n",
        "        print(\"4. Показать состояние питомца\")\n",
        "        print(\"5. Выйти\")\n",
        "\n",
        "        choice = input(\"Ваш выбор: \")\n",
        "\n",
        "        if choice == \"1\":\n",
        "            feed_pet(pet)\n",
        "        elif choice == \"2\":\n",
        "            play_with_pet(pet)\n",
        "        elif choice == \"3\":\n",
        "            pet_to_sleep(pet)\n",
        "        elif choice == \"4\":\n",
        "            pet_status(pet)\n",
        "        elif choice == \"5\":\n",
        "            print(\"Выход из программы\")\n",
        "            break\n",
        "        else:\n",
        "            print(\"Некорректный выбор. Пожалуйста, попробуйте снова.\")\n",
        "\n",
        "\n",
        "main()"
      ],
      "metadata": {
        "id": "hE7mF-HXpJLO",
        "colab": {
          "base_uri": "https://localhost:8080/"
        },
        "outputId": "6f5c16c4-b4f2-49e8-e6c7-92045dd20c43"
      },
      "execution_count": null,
      "outputs": [
        {
          "output_type": "stream",
          "name": "stdout",
          "text": [
            "Введите имя питомца: вася\n",
            "Введите питомца (собака, кошка): кот\n",
            "Введите возраст питомца (годы): 7\n",
            "\n",
            "Выберите действие:\n",
            "1. Покормить питомца\n",
            "2. Поиграть с питомцем\n",
            "3. Уложить питомца спать\n",
            "4. Показать состояние питомца\n",
            "5. Выйти\n",
            "Ваш выбор: 1\n",
            "вася покормлен!\n",
            "\n",
            "Выберите действие:\n",
            "1. Покормить питомца\n",
            "2. Поиграть с питомцем\n",
            "3. Уложить питомца спать\n",
            "4. Показать состояние питомца\n",
            "5. Выйти\n",
            "Ваш выбор: 3\n",
            "вася уснул!\n",
            "\n",
            "Выберите действие:\n",
            "1. Покормить питомца\n",
            "2. Поиграть с питомцем\n",
            "3. Уложить питомца спать\n",
            "4. Показать состояние питомца\n",
            "5. Выйти\n",
            "Ваш выбор: 2\n",
            "вася поиграл!\n",
            "\n",
            "Выберите действие:\n",
            "1. Покормить питомца\n",
            "2. Поиграть с питомцем\n",
            "3. Уложить питомца спать\n",
            "4. Показать состояние питомца\n",
            "5. Выйти\n",
            "Ваш выбор: 4\n",
            "Состояние питомца вася:\n",
            "Тип: кот, Возраст: лет\n",
            "Голод: 4, Радость: 7, Энергия: 7\n",
            "\n",
            "Выберите действие:\n",
            "1. Покормить питомца\n",
            "2. Поиграть с питомцем\n",
            "3. Уложить питомца спать\n",
            "4. Показать состояние питомца\n",
            "5. Выйти\n",
            "Ваш выбор: 5\n",
            "Выход из программы\n"
          ]
        }
      ]
    },
    {
      "cell_type": "markdown",
      "source": [
        "# Задание 2"
      ],
      "metadata": {
        "id": "qZ7qFQnmssNd"
      }
    },
    {
      "cell_type": "markdown",
      "source": [
        "Рыцарь и дракон\n",
        "\n",
        "Цель: создать небольшую игру, в которой вам необходимо играть за рыцаря и сразиться с драконом\n",
        "\n",
        "Требования:\n",
        "\n",
        "- Создание персонажа (имя, информация о доспехах, оружии, урон, здоровье)\n",
        "- Управление персонажем и мини сюжет\n",
        "- Создание дракона (Имя, информация о здоровье и уроне)\n",
        "- Боевая система (нанесение и получение урона, урон должен быть случайным в заданном диапазоне)\n",
        "- Реализовать бой между драконом и рыцарем"
      ],
      "metadata": {
        "id": "UaccTe7ltNvg"
      }
    },
    {
      "cell_type": "code",
      "source": [
        "import random\n",
        "\n",
        "\n",
        "\n",
        "def create_knight():\n",
        "    name = input(\"Введите имя рыцаря: \")\n",
        "    armor = input(\"Введите информацию о доспехах: \")\n",
        "    weapon = input(\"Введите название оружия: \")\n",
        "    damage = random.randint(5, 15)\n",
        "    health = 100\n",
        "    return {\"name\": name, \"armor\": armor, \"weapon\": weapon, \"damage\": damage, \"health\": health}\n",
        "\n",
        "\n",
        "\n",
        "def create_dragon():\n",
        "    name = \"Дракон\"\n",
        "    health = 100\n",
        "    damage = random.randint(10, 20)\n",
        "    return {\"name\": name, \"health\": health, \"damage\": damage}\n",
        "\n",
        "\n",
        "def battle(knight, dragon):\n",
        "    print(f\"{knight['name']} сражается с {dragon['name']}!\")\n",
        "    while knight[\"health\"] > 0 and dragon[\"health\"] > 0:\n",
        "\n",
        "        knight_attack = random.randint(0, knight[\"damage\"])\n",
        "        dragon[\"health\"] -= knight_attack\n",
        "\n",
        "\n",
        "        print(f\"{knight['name']} наносит удар и наносит урона драку.\")\n",
        "        print(f\"Здоровье дракона: {dragon['health']}\")\n",
        "\n",
        "\n",
        "        if dragon[\"health\"] <= 0:\n",
        "            print(f\"{dragon['name']} повержен! победил!\")\n",
        "            break\n",
        "\n",
        "        dragon_attack = random.randint(0, dragon[\"damage\"])\n",
        "        knight[\"health\"] -= dragon_attack\n",
        "        print(f\"{dragon['name']} наносит удар и наносит урона рыцарю.\")\n",
        "        print(f\"Здоровье рыцаря: {knight['health']}\")\n",
        "\n",
        "\n",
        "        if knight[\"health\"] <= 0:\n",
        "            print(f\"{knight['name']} пал в бою. Дракон победил!\")\n",
        "            break\n",
        "\n",
        "\n",
        "def main():\n",
        "    print(\"Добро пожаловать в игру 'Рыцарь и Дракон'!\")\n",
        "    knight = create_knight()\n",
        "    dragon = create_dragon()\n",
        "\n",
        "    print(\"\\nПриготовьтесь к бою!\")\n",
        "    battle(knight, dragon)\n",
        "\n",
        "\n",
        "main()"
      ],
      "metadata": {
        "colab": {
          "base_uri": "https://localhost:8080/"
        },
        "id": "VubHAzsC7NY2",
        "outputId": "5e4ef26d-6b58-4b9b-c482-8e4d7a48e572"
      },
      "execution_count": 14,
      "outputs": [
        {
          "output_type": "stream",
          "name": "stdout",
          "text": [
            "Добро пожаловать в игру 'Рыцарь и Дракон'!\n",
            "Введите имя рыцаря: Вадим\n",
            "Введите информацию о доспехах: 45\n",
            "Введите название оружия: арбалет\n",
            "\n",
            "Приготовьтесь к бою!\n",
            "Вадим сражается с Дракон!\n",
            "Вадим наносит удар и наносит урона драку.\n",
            "Здоровье дракона: 96\n",
            "Дракон наносит удар и наносит урона рыцарю.\n",
            "Здоровье рыцаря: 92\n",
            "Вадим наносит удар и наносит урона драку.\n",
            "Здоровье дракона: 94\n",
            "Дракон наносит удар и наносит урона рыцарю.\n",
            "Здоровье рыцаря: 92\n",
            "Вадим наносит удар и наносит урона драку.\n",
            "Здоровье дракона: 88\n",
            "Дракон наносит удар и наносит урона рыцарю.\n",
            "Здоровье рыцаря: 81\n",
            "Вадим наносит удар и наносит урона драку.\n",
            "Здоровье дракона: 83\n",
            "Дракон наносит удар и наносит урона рыцарю.\n",
            "Здоровье рыцаря: 75\n",
            "Вадим наносит удар и наносит урона драку.\n",
            "Здоровье дракона: 83\n",
            "Дракон наносит удар и наносит урона рыцарю.\n",
            "Здоровье рыцаря: 61\n",
            "Вадим наносит удар и наносит урона драку.\n",
            "Здоровье дракона: 79\n",
            "Дракон наносит удар и наносит урона рыцарю.\n",
            "Здоровье рыцаря: 61\n",
            "Вадим наносит удар и наносит урона драку.\n",
            "Здоровье дракона: 72\n",
            "Дракон наносит удар и наносит урона рыцарю.\n",
            "Здоровье рыцаря: 50\n",
            "Вадим наносит удар и наносит урона драку.\n",
            "Здоровье дракона: 70\n",
            "Дракон наносит удар и наносит урона рыцарю.\n",
            "Здоровье рыцаря: 35\n",
            "Вадим наносит удар и наносит урона драку.\n",
            "Здоровье дракона: 67\n",
            "Дракон наносит удар и наносит урона рыцарю.\n",
            "Здоровье рыцаря: 19\n",
            "Вадим наносит удар и наносит урона драку.\n",
            "Здоровье дракона: 62\n",
            "Дракон наносит удар и наносит урона рыцарю.\n",
            "Здоровье рыцаря: 16\n",
            "Вадим наносит удар и наносит урона драку.\n",
            "Здоровье дракона: 62\n",
            "Дракон наносит удар и наносит урона рыцарю.\n",
            "Здоровье рыцаря: 13\n",
            "Вадим наносит удар и наносит урона драку.\n",
            "Здоровье дракона: 62\n",
            "Дракон наносит удар и наносит урона рыцарю.\n",
            "Здоровье рыцаря: 3\n",
            "Вадим наносит удар и наносит урона драку.\n",
            "Здоровье дракона: 62\n",
            "Дракон наносит удар и наносит урона рыцарю.\n",
            "Здоровье рыцаря: -13\n",
            "Вадим пал в бою. Дракон победил!\n"
          ]
        }
      ]
    },
    {
      "cell_type": "markdown",
      "source": [
        "[Текст ссылки](https://)# Задание 3\n"
      ],
      "metadata": {
        "id": "N8oFiEXol3e2"
      }
    },
    {
      "cell_type": "markdown",
      "source": [
        "Цель - создать менеджера команды Pokémon, который позволит пользователям:\n",
        "\n",
        "- Добавлять покемонов в свою команду. (если такого покемона еще нет в команде)\n",
        "- Удалять покемонов из их команды.\n",
        "- Просматривать подробную информацию обо всех покемонах в команде.\n",
        "- Находить покемона по имени.\n",
        "- Устраивать тренировочный бой между двумя покемонами\n",
        "\n",
        "Для данной задачи используйте: https://pokeapi.co/\n"
      ],
      "metadata": {
        "id": "9p4WQG_Vl7wB"
      }
    },
    {
      "cell_type": "code",
      "source": [
        "import requests\n",
        "\n",
        "def get_pokemon_data(name):\n",
        "    url = f\"https://pokeapi.co/api/v2/pokemon/{name.lower()}\"\n",
        "    response = requests.get(url)\n",
        "\n",
        "    if response.status_code == 200:\n",
        "        return response.json()\n",
        "    else:\n",
        "        print(f\"Покемон с именем '{name}' не найден.\")\n",
        "        return None\n",
        "\n",
        "def add_pokemon(team, name):\n",
        "    if name not in team:\n",
        "        data = get_pokemon_data(name)\n",
        "        if data:\n",
        "            team[name] = {\n",
        "                'id': data['id'],\n",
        "                'base_experience': data['base_experience'],\n",
        "                'height': data['height'],\n",
        "                'weight': data['weight']\n",
        "            }\n",
        "            print(f\"Покемон '{name}' добавлен в команду.\")\n",
        "        else:\n",
        "            print(f\"Не удалось добавить покемона '{name}'.\")\n",
        "    else:\n",
        "        print(f\"Покемон '{name}' уже есть в команде.\")\n",
        "\n",
        "def remove_pokemon(team, name):\n",
        "    if name in team:\n",
        "        del team[name]\n",
        "        print(f\"Покемон '{name}' удален из команды.\")\n",
        "    else:\n",
        "        print(f\"Покемон '{name}' не найден в команде.\")\n",
        "\n",
        "def view_team(team):\n",
        "    if team:\n",
        "        for name, data in team.items():\n",
        "            print(f\"Имя: {name}, ID: {data['id']}, Опыт: {data['base_experience']}, Рост: {data['height']}, Вес: {data['weight']}\")\n",
        "    else:\n",
        "        print(\"Команда пуста.\")\n",
        "\n",
        "def find_pokemon(team, name):\n",
        "    if name in team:\n",
        "        data = team[name]\n",
        "        print(f\"Покемон найден: Имя: {name}, ID: {data['id']}, Опыт: {data['base_experience']}, Рост: {data['height']}, Вес: {data['weight']}\")\n",
        "    else:\n",
        "        print(f\"Покемон '{name}' не найден в команде.\")\n",
        "\n",
        "def battle(pokemon1, pokemon2):\n",
        "    if pokemon1['base_experience'] > pokemon2['base_experience']:\n",
        "        print(f\"{pokemon1['name']} выигрывает!\" )\n",
        "    elif pokemon1['base_experience'] < pokemon2['base_experience']:\n",
        "        print(f\"{pokemon2['name']} выигрывает!\" )\n",
        "    else:\n",
        "        print(\"Ничья!\")\n",
        "\n",
        "def main():\n",
        "    team = {}\n",
        "    while True:\n",
        "        print(\"1. Добавить покемона\")\n",
        "        print(\"2. Удалить покемона\")\n",
        "        print(\"3. Просмотреть команду\")\n",
        "        print(\"4. Найти покемона\")\n",
        "        print(\"5. Устроить тренировочный бой\")\n",
        "        print(\"6. Выйти\")\n",
        "        choice = input(\"Выберите действие: \")\n",
        "\n",
        "        if choice == '1':\n",
        "            name = input(\"Введите имя покемона для добавления: \")\n",
        "            add_pokemon(team, name)\n",
        "        elif choice == '2':\n",
        "            name = input(\"Введите имя покемона для удаления: \")\n",
        "            remove_pokemon(team, name)\n",
        "        elif choice == '3':\n",
        "            view_team(team)\n",
        "        elif choice == '4':\n",
        "            name = input(\"Введите имя покемона для поиска: \")\n",
        "            find_pokemon(team, name)\n",
        "        elif choice == '5':\n",
        "            name1 = input(\"Введите имя первого покемона: \")\n",
        "            name2 = input(\"Введите имя второго покемона: \")\n",
        "            pokemon1 = team.get(name1)\n",
        "            pokemon2 = team.get(name2)\n",
        "            if pokemon1 and pokemon2:\n",
        "                battle(pokemon1, pokemon2)\n",
        "            else:\n",
        "                print(\"Один или оба покемона не найдены в команде.\")\n",
        "        elif choice == '6':\n",
        "            break\n",
        "        else:\n",
        "            print(\"Некорректный выбор. Пожалуйста, попробуйте снова.\")\n",
        "\n",
        "main()"
      ],
      "metadata": {
        "id": "NnGYp1MTqi5k",
        "outputId": "0a63326a-2b21-414d-ce74-e67d1c93e24e",
        "colab": {
          "base_uri": "https://localhost:8080/"
        }
      },
      "execution_count": 12,
      "outputs": [
        {
          "name": "stdout",
          "output_type": "stream",
          "text": [
            "1. Добавить покемона\n",
            "2. Удалить покемона\n",
            "3. Просмотреть команду\n",
            "4. Найти покемона\n",
            "5. Устроить тренировочный бой\n",
            "6. Выйти\n",
            "Выберите действие: 1\n",
            "Введите имя покемона для добавления: Ditto\n",
            "Покемон 'Ditto' добавлен в команду.\n",
            "1. Добавить покемона\n",
            "2. Удалить покемона\n",
            "3. Просмотреть команду\n",
            "4. Найти покемона\n",
            "5. Устроить тренировочный бой\n",
            "6. Выйти\n",
            "Выберите действие: 1\n",
            "Введите имя покемона для добавления: Kakuna\n",
            "Покемон 'Kakuna' добавлен в команду.\n",
            "1. Добавить покемона\n",
            "2. Удалить покемона\n",
            "3. Просмотреть команду\n",
            "4. Найти покемона\n",
            "5. Устроить тренировочный бой\n",
            "6. Выйти\n",
            "Выберите действие: 3\n",
            "Имя: Ditto, ID: 132, Опыт: 101, Рост: 3, Вес: 40\n",
            "Имя: Kakuna, ID: 14, Опыт: 72, Рост: 6, Вес: 100\n",
            "1. Добавить покемона\n",
            "2. Удалить покемона\n",
            "3. Просмотреть команду\n",
            "4. Найти покемона\n",
            "5. Устроить тренировочный бой\n",
            "6. Выйти\n",
            "Выберите действие: 4\n",
            "Введите имя покемона для поиска: Ditto\n",
            "Покемон найден: Имя: Ditto, ID: 132, Опыт: 101, Рост: 3, Вес: 40\n",
            "1. Добавить покемона\n",
            "2. Удалить покемона\n",
            "3. Просмотреть команду\n",
            "4. Найти покемона\n",
            "5. Устроить тренировочный бой\n",
            "6. Выйти\n",
            "Выберите действие: 6\n"
          ]
        }
      ]
    }
  ]
}