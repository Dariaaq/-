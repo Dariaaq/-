{
  "nbformat": 4,
  "nbformat_minor": 0,
  "metadata": {
    "colab": {
      "provenance": [],
      "include_colab_link": true
    },
    "kernelspec": {
      "name": "python3",
      "display_name": "Python 3"
    },
    "language_info": {
      "name": "python"
    }
  },
  "cells": [
    {
      "cell_type": "markdown",
      "metadata": {
        "id": "view-in-github",
        "colab_type": "text"
      },
      "source": [
        "<a href=\"https://colab.research.google.com/github/Dariaaq/-/blob/main/%D0%9A%D0%BE%D0%BF%D0%B8%D1%8F_%D0%B1%D0%BB%D0%BE%D0%BA%D0%BD%D0%BE%D1%82%D0%B0_%22%22%D0%9F%D1%80%D0%B0%D0%BA%D1%82%D0%B8%D0%BA%D0%B0_0_2_0_ipynb%22%22.ipynb\" target=\"_parent\"><img src=\"https://colab.research.google.com/assets/colab-badge.svg\" alt=\"Open In Colab\"/></a>"
      ]
    },
    {
      "cell_type": "markdown",
      "source": [
        "[Текст ссылки](https://)Напишите свое ФИО:Аносова Дарья Александровна"
      ],
      "metadata": {
        "id": "0PnTh-ajEoEb"
      }
    },
    {
      "cell_type": "code",
      "source": [
        "print('Привет студентам!')"
      ],
      "metadata": {
        "id": "QyMVPjzWErHw",
        "colab": {
          "base_uri": "https://localhost:8080/"
        },
        "outputId": "7a1724de-56a9-4b4e-f7dd-d5fca42ff012"
      },
      "execution_count": null,
      "outputs": [
        {
          "output_type": "stream",
          "name": "stdout",
          "text": [
            "Привет студентам!\n"
          ]
        }
      ]
    },
    {
      "cell_type": "markdown",
      "source": [
        "# Основы"
      ],
      "metadata": {
        "id": "HPwKiIA4EKO-"
      }
    },
    {
      "cell_type": "markdown",
      "source": [
        "Задание 1: Напиши программу, выводящую на экран сообщение \"Привет, мир!\""
      ],
      "metadata": {
        "id": "8po5IidFERZ8"
      }
    },
    {
      "cell_type": "code",
      "execution_count": null,
      "metadata": {
        "id": "sBRjlCVLEIQr",
        "colab": {
          "base_uri": "https://localhost:8080/"
        },
        "outputId": "065c9bf2-0946-4133-f148-c3dfca8a93ad"
      },
      "outputs": [
        {
          "output_type": "stream",
          "name": "stdout",
          "text": [
            "Привет,мир!\n"
          ]
        }
      ],
      "source": [
        "print(\"Привет,мир!\")"
      ]
    },
    {
      "cell_type": "markdown",
      "source": [
        "Задание 2: Напиши программу которая запрашивает имя пользователя и выводит сообщение:\n",
        "\n",
        "`Привет, <Имя пользователя>`"
      ],
      "metadata": {
        "id": "pUQIIo94EYLg"
      }
    },
    {
      "cell_type": "code",
      "source": [
        "a=input()\n",
        "print(\"Привет,\", a)"
      ],
      "metadata": {
        "id": "nNwHKmAnEinH",
        "colab": {
          "base_uri": "https://localhost:8080/"
        },
        "outputId": "3568c126-ec51-40de-eab1-b981e579635e"
      },
      "execution_count": null,
      "outputs": [
        {
          "output_type": "stream",
          "name": "stdout",
          "text": [
            "Даша\n",
            "Привет, Даша\n"
          ]
        }
      ]
    },
    {
      "cell_type": "markdown",
      "source": [
        "Задание 3: Напиши программу определяющую является ли число четным или нечетным:\n",
        "\n",
        "Пример:\n",
        "\n",
        "`Введите число:` 2\n",
        "\n",
        "`Ваше число четное!`"
      ],
      "metadata": {
        "id": "SAUm9W6_Etkh"
      }
    },
    {
      "cell_type": "code",
      "source": [
        "a=int(input())\n",
        "if a % 2 == 0:\n",
        "  print(\"Ваше число чётное!\")\n",
        "else:\n",
        "  print(\"Ваше число нечётное!\")"
      ],
      "metadata": {
        "id": "LXv7AIN1E4on",
        "colab": {
          "base_uri": "https://localhost:8080/"
        },
        "outputId": "80981054-cf11-4351-e422-8bf32f7ed867"
      },
      "execution_count": null,
      "outputs": [
        {
          "output_type": "stream",
          "name": "stdout",
          "text": [
            "14632003\n",
            "Ваше число нечётное!\n"
          ]
        }
      ]
    },
    {
      "cell_type": "markdown",
      "source": [
        "Задание 4: Напишите программу которая запрашивает длинну и ширину прямоугольника и выводит его площадь:\n",
        "\n",
        "\n",
        "\n",
        "`Введите длинну прямоугольника:`\n",
        "\n",
        "`Введите ширину прямоугольника:`\n",
        "\n",
        "`Площадь прямоугольника: `\n",
        "\n"
      ],
      "metadata": {
        "id": "OW1Y5KyUE_n9"
      }
    },
    {
      "cell_type": "code",
      "source": [
        "a=int(input(\"Введите длину прямоугольника:\"))\n",
        "b=int(input(\"Введите ширину прямоугольника:\"))\n",
        "S=a*b\n",
        "print(\"Площадь прямоугольника:\", S)"
      ],
      "metadata": {
        "id": "Bu5iawknFbXP",
        "colab": {
          "base_uri": "https://localhost:8080/"
        },
        "outputId": "ef7b6676-efc7-4e7f-8411-e16635b1188d"
      },
      "execution_count": null,
      "outputs": [
        {
          "output_type": "stream",
          "name": "stdout",
          "text": [
            "Введите длину прямоугольника:10\n",
            "Введите ширину прямоугольника:4\n",
            "Площадь прямоугольника: 40\n"
          ]
        }
      ]
    },
    {
      "cell_type": "markdown",
      "source": [
        "Задание 5: Напишите программу, которая будет вычислять среднее арифметическое введенных чисел"
      ],
      "metadata": {
        "id": "xj8_QNLsFfLw"
      }
    },
    {
      "cell_type": "code",
      "source": [
        "a=list(map(int,input().split()))\n",
        "b=0\n",
        "for i in range(len(a)):\n",
        "  b+=int(a[i])\n",
        "print(b//int(len(a)))"
      ],
      "metadata": {
        "id": "omumX59JFoKw",
        "colab": {
          "base_uri": "https://localhost:8080/"
        },
        "outputId": "be64ef8c-8964-48ff-ef5a-252c1712b737"
      },
      "execution_count": null,
      "outputs": [
        {
          "output_type": "stream",
          "name": "stdout",
          "text": [
            "3 5 2 6 7 2 1\n",
            "3\n"
          ]
        }
      ]
    },
    {
      "cell_type": "markdown",
      "source": [
        "Задание 6: Напиши программу, которая бы определяла является ли год високосным"
      ],
      "metadata": {
        "id": "qHXcBMUJcP91"
      }
    },
    {
      "cell_type": "code",
      "source": [
        "a=int(input(\"Введите год:\"))\n",
        "if a%100==0 and a%400==0:\n",
        "  print(a,\"Год високосный\")\n",
        "else:\n",
        "  print(a,\"Год не високосный\")"
      ],
      "metadata": {
        "id": "5zIg47mwcKKr",
        "colab": {
          "base_uri": "https://localhost:8080/"
        },
        "outputId": "5661df26-cfb7-4a3e-9487-0a08e982c512"
      },
      "execution_count": null,
      "outputs": [
        {
          "output_type": "stream",
          "name": "stdout",
          "text": [
            "Введите год:4065\n",
            "4065 Год не високосный\n"
          ]
        }
      ]
    },
    {
      "cell_type": "markdown",
      "source": [
        "Задание 7: Необходимо создать простой калькулятор, который позволяет пользователю выбрать одну из четырёх операций (+, -, *, /), ввести два числа и получить результат выполнения операции."
      ],
      "metadata": {
        "id": "CYaQ69kucdhj"
      }
    },
    {
      "cell_type": "code",
      "source": [
        "a=str(input(\"Выберите действие:\"))\n",
        "b=int(input(\"Выберите первое число:\"))\n",
        "c=int(input(\"Выберите второе число:\"))\n",
        "if a == \"-\":\n",
        "  raznost=b-c\n",
        "  print(raznost)\n",
        "if a == \"+\":\n",
        "  summa=b+c\n",
        "  print(summa)\n",
        "if a == \"*\":\n",
        "  proizv=b*c\n",
        "  print(proizv)\n",
        "if a == \"/\":\n",
        "  chastn=b//c\n",
        "  print(chastn)\n"
      ],
      "metadata": {
        "id": "wR5UyEf7ciIE",
        "colab": {
          "base_uri": "https://localhost:8080/"
        },
        "outputId": "859c3cc2-3706-48d9-99ad-e167ec4ebfcd"
      },
      "execution_count": null,
      "outputs": [
        {
          "output_type": "stream",
          "name": "stdout",
          "text": [
            "Выберите действие:*\n",
            "Выберите первое число:236\n",
            "Выберите второе число:578\n",
            "136408\n"
          ]
        }
      ]
    },
    {
      "cell_type": "markdown",
      "source": [
        "--------------------------------------------------------------------------------\n",
        "\n",
        "**Да, задания ниже тоже обязательны, вам необходимо выполнить веееееесь файл**\n",
        "\n",
        "--------------------------------------------------------------------------------\n"
      ],
      "metadata": {
        "id": "PcJ66hI-vAlk"
      }
    },
    {
      "cell_type": "markdown",
      "source": [
        "# Практика 0.2.1"
      ],
      "metadata": {
        "id": "XWBhGpdEFo-U"
      }
    },
    {
      "cell_type": "markdown",
      "source": [
        "**Шахматы**\n",
        "\n",
        "Даны стартовые и конечные координаты, а также фигура\n",
        "\n",
        "Необходимо определить, может ли заданная фигура так ходить?"
      ],
      "metadata": {
        "id": "9Lw9odpqFwtn"
      }
    },
    {
      "cell_type": "code",
      "source": [],
      "metadata": {
        "id": "9IICo0p3F07P"
      },
      "execution_count": null,
      "outputs": []
    },
    {
      "cell_type": "markdown",
      "source": [
        "# Практика 0.2.2\n",
        "\n",
        "**Цифра на определенном месте:**\n",
        "\n",
        "Последовательно записан натуральный ряд чисел.\n",
        "\n",
        "Какая цифра стоит в N позиции"
      ],
      "metadata": {
        "id": "wI5bLNpHGDmO"
      }
    },
    {
      "cell_type": "code",
      "source": [
        "a = list(map(int,input().split()))\n",
        "b = int(input())\n",
        "s = ''\n",
        "for i in range(len(a)):\n",
        "  s=s+str(a[i])\n",
        "print(s[b-1])"
      ],
      "metadata": {
        "id": "XLm_zFGzGNsU",
        "colab": {
          "base_uri": "https://localhost:8080/"
        },
        "outputId": "21bb7427-cfbe-4a49-baa9-a320ed6b8ec2"
      },
      "execution_count": null,
      "outputs": [
        {
          "output_type": "stream",
          "name": "stdout",
          "text": [
            "1 2 3 4 5 6 7 765\n",
            "8\n",
            "7\n"
          ]
        }
      ]
    },
    {
      "cell_type": "markdown",
      "source": [
        "# Практика 0.2.3\n",
        "\n",
        "\n",
        "Возьмите код из задания 7 и улучшите ваш калькулятор следующим образом:\n",
        "\n",
        "Пользователь вводит строку вида:\n",
        "\n",
        "(5+5)*5 - данная строка содержит в себе математическое выражение, а также скобки\n",
        "\n",
        "Ваша программа должная понять что за математическое выражение записано, проверить верно ли оно записано (пример неверного заполнения: (5(+)5)*5, а также расчитать его в соотвествии с правилами математики"
      ],
      "metadata": {
        "id": "dpxTJv-scnMy"
      }
    },
    {
      "cell_type": "code",
      "source": [],
      "metadata": {
        "id": "18gOluyHcmmf"
      },
      "execution_count": null,
      "outputs": []
    }
  ]
}