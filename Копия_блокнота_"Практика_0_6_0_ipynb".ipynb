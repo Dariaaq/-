{
  "nbformat": 4,
  "nbformat_minor": 0,
  "metadata": {
    "colab": {
      "provenance": [],
      "include_colab_link": true
    },
    "kernelspec": {
      "name": "python3",
      "display_name": "Python 3"
    },
    "language_info": {
      "name": "python"
    }
  },
  "cells": [
    {
      "cell_type": "markdown",
      "metadata": {
        "id": "view-in-github",
        "colab_type": "text"
      },
      "source": [
        "<a href=\"https://colab.research.google.com/github/Dariaaq/-/blob/main/%D0%9A%D0%BE%D0%BF%D0%B8%D1%8F_%D0%B1%D0%BB%D0%BE%D0%BA%D0%BD%D0%BE%D1%82%D0%B0_%22%D0%9F%D1%80%D0%B0%D0%BA%D1%82%D0%B8%D0%BA%D0%B0_0_6_0_ipynb%22.ipynb\" target=\"_parent\"><img src=\"https://colab.research.google.com/assets/colab-badge.svg\" alt=\"Open In Colab\"/></a>"
      ]
    },
    {
      "cell_type": "markdown",
      "source": [
        "\n",
        "\n",
        "---\n",
        "\n"
      ],
      "metadata": {
        "id": "tKNG_RzWxG6g"
      }
    },
    {
      "cell_type": "markdown",
      "source": [
        "# **Дисклеймер**\n",
        "\n",
        "В данной практике будет введен дополнительный критерий: чистота и читаемость кода, а также соблюдение правил описанных в начале практики"
      ],
      "metadata": {
        "id": "cFcrKfclKWh0"
      }
    },
    {
      "cell_type": "markdown",
      "source": [
        "\n",
        "\n",
        "---\n",
        "\n"
      ],
      "metadata": {
        "id": "0SnE87X1xDlV"
      }
    },
    {
      "cell_type": "markdown",
      "source": [
        "# Задание 1\n",
        "\n",
        "**Задача:**\n",
        "\n",
        "Напишите функцию очищающий список от дубликтов\n",
        "\n",
        "\n",
        "*Запрещено:*\n",
        "\n",
        "*   Использовать set() или готовые функции очищающие список от дубликатов\n",
        "\n",
        "Вввод:\n",
        "\n",
        "```\n",
        "apple banana apple 1 3 4 4 5\n",
        "```\n",
        "\n",
        "\n",
        "Вывод:\n",
        "\n",
        "```\n",
        "apple banana 1 3 4 5\n",
        "```\n",
        "\n"
      ],
      "metadata": {
        "id": "VxawR9NubT_F"
      }
    },
    {
      "cell_type": "code",
      "source": [
        "n_list = [1, 2, 3, 4, 5, 6, 7, 7, 7, 0, 3, 2] #предполагаемый список с дубликатами\n",
        "\n",
        "for x in n_list:\n",
        "  if n_list.count(x) > 1: #возвращает кол-во значений, если их больше 1\n",
        "    n_list.remove(x) #убирает повторяющиеся элементы\n",
        "print(n_list)"
      ],
      "metadata": {
        "id": "ml5gnbPXbeju",
        "colab": {
          "base_uri": "https://localhost:8080/"
        },
        "outputId": "8ae9a7b4-6946-4675-b825-a2e9be30370b"
      },
      "execution_count": null,
      "outputs": [
        {
          "output_type": "stream",
          "name": "stdout",
          "text": [
            "[1, 4, 5, 6, 7, 0, 3, 2]\n"
          ]
        }
      ]
    },
    {
      "cell_type": "markdown",
      "source": [
        "# Задание 2\n",
        "\n",
        "**Задача:**\n",
        "\n",
        "Написать функцию для нахождения простых чисел в диапазоне\n",
        "\n",
        "Ввод:\n",
        "\n",
        "```\n",
        "10, 50\n",
        "```\n",
        "\n",
        "Вывод:\n",
        "\n",
        "```\n",
        "11, 13, 17, 19, 23, 29, 31, 37, 41, 43, 47\n",
        "```"
      ],
      "metadata": {
        "id": "y05x0eD0cVCC"
      }
    },
    {
      "cell_type": "code",
      "source": [
        "def is_prime(num):\n",
        "    if num <= 1:\n",
        "        return False\n",
        "    for i in range(2, int(num**0.5) + 1):\n",
        "        if num % i == 0:\n",
        "            return False\n",
        "    return True\n",
        "\n",
        "def find_primes_in_range(start, end):\n",
        "    primes = []\n",
        "    for num in range(start, end + 1):\n",
        "        if is_prime(num):\n",
        "            primes.append(num)\n",
        "    return primes\n",
        "\n",
        "if __name__ == \"__main__\":\n",
        "    start_range = int(input(\"Введите начало диапазона: \"))\n",
        "    end_range = int(input(\"Введите конец диапазона: \"))\n",
        "    prime_numbers = find_primes_in_range(start_range, end_range)\n",
        "    print(f\"Простые числа в диапазоне: {prime_numbers}\")"
      ],
      "metadata": {
        "id": "XSMJnLgrc6Bf",
        "colab": {
          "base_uri": "https://localhost:8080/"
        },
        "outputId": "d04dd7f2-8004-47d6-c4af-0416d43758bf"
      },
      "execution_count": null,
      "outputs": [
        {
          "output_type": "stream",
          "name": "stdout",
          "text": [
            "Введите начало диапазона: 10\n",
            "Введите конец диапазона: 50\n",
            "Простые числа в диапазоне: [11, 13, 17, 19, 23, 29, 31, 37, 41, 43, 47]\n"
          ]
        }
      ]
    },
    {
      "cell_type": "markdown",
      "source": [
        "# Задание 3\n",
        "\n",
        "Напишите функцию для объединения двух списков (список ключей и список значении) в словарь\n",
        "\n",
        "*Запрещено:*\n",
        "\n",
        "*   Использования готовых функции для объединения списков (пример: zip() )\n",
        "\n",
        "Дано:\n",
        "\n",
        "```\n",
        "keys = ['a', 'b', 'c', 'e' ]\n",
        "values = [1, 2, 3, 4]\n",
        "```\n",
        "\n",
        "Вывод:\n",
        "```\n",
        "{'a': 1, 'b': 2, 'c': 3, 'e': 4}\n",
        "```\n",
        "\n",
        "\n"
      ],
      "metadata": {
        "id": "vYM0LyxxdElN"
      }
    },
    {
      "cell_type": "code",
      "source": [
        "keys = ['a', 'b', 'c', 'e' ]\n",
        "values = [1, 2, 3, 4]\n",
        "\n",
        "print(\"Список ключей: \" + str(keys))\n",
        "print(\"Список значений: \" + str(values))\n",
        "\n",
        "\n",
        "result = {}\n",
        "for key in keys:\n",
        "    for value in values:\n",
        "        result[key] = value\n",
        "        values.remove(value)\n",
        "        break\n",
        "\n",
        "print(\"Объединенный список ключей и значений: \" + str(result))"
      ],
      "metadata": {
        "id": "CRvhHTjCdvjS",
        "colab": {
          "base_uri": "https://localhost:8080/"
        },
        "outputId": "95d19d63-e271-4aa0-be0d-30d3c042262e"
      },
      "execution_count": null,
      "outputs": [
        {
          "output_type": "stream",
          "name": "stdout",
          "text": [
            "Список ключей: ['a', 'b', 'c', 'e']\n",
            "Список значений: [1, 2, 3, 4]\n",
            "Объединенный список ключей и значений: {'a': 1, 'b': 2, 'c': 3, 'e': 4}\n"
          ]
        }
      ]
    },
    {
      "cell_type": "markdown",
      "source": [
        "# Задание 4\n",
        "\n",
        "Напишите функцию(ии) для подсчета статистических параметров:\n",
        "*   Сумму\n",
        "*   Среднее арифметическое\n",
        "*   Медиану\n",
        "*   Моду\n",
        "\n",
        "\n",
        "*Запрещено:*\n",
        "\n",
        "*   sum()\n",
        "*   sorted()\n",
        "*   и других функции предоставляющих готовое решение задания\n",
        "\n",
        "Дано:\n",
        "\n",
        "```\n",
        "numbers = [1, 2, 2, 3, 4, 5, 6, 7, 8 ,9 ,10]\n",
        "\n",
        "```\n",
        "\n",
        "Вывод:\n",
        "```\n",
        "{'mean': 5.181818181818182, 'median': 5, 'mode': 2, 'sum': 57}\n",
        "```\n"
      ],
      "metadata": {
        "id": "L_w8H8i-fQcP"
      }
    },
    {
      "cell_type": "code",
      "source": [
        "def sum_(numbers):\n",
        "    total = 0\n",
        "    for number in numbers:\n",
        "        total += number\n",
        "    return total\n",
        "\n",
        "def mean_(numbers):\n",
        "    total = sum_(numbers)\n",
        "    count = len(numbers)\n",
        "    return total / count if count > 0 else 0\n",
        "\n",
        "def median_(numbers):\n",
        "    count = len(numbers)\n",
        "    if count == 0:\n",
        "        return 0\n",
        "\n",
        "    sorted_numbers = []\n",
        "    for number in numbers:\n",
        "        inserted = False\n",
        "        for i in range(len(sorted_numbers)):\n",
        "            if number < sorted_numbers[i]:\n",
        "                sorted_numbers.insert(i, number)\n",
        "                inserted = True\n",
        "                break\n",
        "        if not inserted:\n",
        "            sorted_numbers.append(number)\n",
        "\n",
        "    if count % 2 == 1:\n",
        "        return sorted_numbers[count // 2]\n",
        "    else:\n",
        "        mid1 = sorted_numbers[count // 2 - 1]\n",
        "        mid2 = sorted_numbers[count // 2]\n",
        "        return (mid1 + mid2) / 2\n",
        "\n",
        "def mode_(numbers):\n",
        "    frequency = {}\n",
        "    for number in numbers:\n",
        "        if number in frequency:\n",
        "            frequency[number] += 1\n",
        "        else:\n",
        "            frequency[number] = 1\n",
        "\n",
        "    max_count = 0\n",
        "    modes = []\n",
        "\n",
        "    for number, count in frequency.items():\n",
        "        if count > max_count:\n",
        "            max_count = count\n",
        "            modes = [number]\n",
        "        elif count == max_count:\n",
        "            modes.append(number)\n",
        "\n",
        "    return modes\n",
        "\n",
        "numbers = [1, 2, 2, 3, 4, 5, 6, 7, 8, 9, 10]\n",
        "\n",
        "total = sum_(numbers)\n",
        "mean = mean_(numbers)\n",
        "median = median_(numbers)\n",
        "mode = mode_(numbers)\n",
        "\n",
        "print(\"Сумма:\", total)\n",
        "print(\"Среднее арифметическое:\", mean)\n",
        "print(\"Медиана:\", median)\n",
        "print(\"Мода:\", mode)\n"
      ],
      "metadata": {
        "id": "dW6jW_rjfuba",
        "colab": {
          "base_uri": "https://localhost:8080/"
        },
        "outputId": "179e98b5-ffc0-4e17-aad9-f1d178787167"
      },
      "execution_count": null,
      "outputs": [
        {
          "output_type": "stream",
          "name": "stdout",
          "text": [
            "Сумма: 57\n",
            "Среднее арифметическое: 5.181818181818182\n",
            "Медиана: 5\n",
            "Мода: [2]\n"
          ]
        }
      ]
    },
    {
      "cell_type": "markdown",
      "source": [
        "# Задание 5\n",
        "\n",
        "На ввод поступает строка символов. Строка состоит из слов, которые отделены друг от друга пробелами. Необходимо вывести самое длинное слово и его порядковый номер.\n",
        "\n",
        "*Запрещено:*\n",
        "\n",
        "*   len()\n",
        "\n",
        "Дано:\n",
        "\n",
        "```\n",
        "Страдание и боль всегда обязательны для широкого сознания и глубокого сердца.\n",
        "\n",
        "```\n",
        "\n",
        "Вывод:\n",
        "```\n",
        "Самое длинное слово с номером 5: обязательны\n",
        "```"
      ],
      "metadata": {
        "id": "hZW0NZ7SgTcp"
      }
    },
    {
      "cell_type": "code",
      "source": [
        "input_string = input(\"Введите строку: \")\n",
        "\n",
        "words = input_string.split()\n",
        "\n",
        "longest_word = \"\"\n",
        "longest_word_index = 0\n",
        "longest_word_length = 0\n",
        "\n",
        "for index, word in enumerate(words):\n",
        "    current_length = 0\n",
        "    for char in word:\n",
        "        current_length += 1\n",
        "\n",
        "    if current_length > longest_word_length:\n",
        "        longest_word_length = current_length\n",
        "        longest_word = word\n",
        "        longest_word_index = index + 1\n",
        "\n",
        "print(f\"Самое длинное слово с номером {longest_word_index}: {longest_word}\")"
      ],
      "metadata": {
        "id": "rC5DpHHLsDYp",
        "colab": {
          "base_uri": "https://localhost:8080/"
        },
        "outputId": "d41f87ef-0f40-428e-e60e-21928d2cf08e"
      },
      "execution_count": null,
      "outputs": [
        {
          "output_type": "stream",
          "name": "stdout",
          "text": [
            "Введите строку: Вадим Стрельцов лучший преподаватель по программированию\n",
            "Самое длинное слово с номером 6: программированию\n"
          ]
        }
      ]
    },
    {
      "cell_type": "markdown",
      "source": [
        "# Задание 6\n",
        "\n",
        "Напишите программу, для управления оценками студентов, со следующими функциями:\n",
        "\n",
        "* Добавление информации о студенте и его оценках.\n",
        "* Подсчет среднего балла студента.\n",
        "* Получение списка всех студентов с их средними баллами.\n",
        "* Поиск студента по имени и вывод его оценок и среднего балла.\n",
        "\n",
        "\n",
        "\n"
      ],
      "metadata": {
        "id": "k5BzJW5ZeaQN"
      }
    },
    {
      "cell_type": "code",
      "source": [
        "students = {}\n",
        "\n",
        "def add_student(name, grades):\n",
        "    \"\"\"Добавляет информацию о студенте и его оценках.\"\"\"\n",
        "    students[name] = grades\n",
        "\n",
        "def calculate_average(grades):\n",
        "    \"\"\"Подсчитывает средний балл студента.\"\"\"\n",
        "    total = 0\n",
        "    count = 0\n",
        "    for grade in grades:\n",
        "        total += grade\n",
        "        count += 1\n",
        "    return total / count if count > 0 else 0\n",
        "\n",
        "def get_all_students():\n",
        "    \"\"\"Возвращает список всех студентов с их средними баллами.\"\"\"\n",
        "    result = {}\n",
        "    for name, grades in students.items():\n",
        "        average = calculate_average(grades)\n",
        "        result[name] = average\n",
        "    return result\n",
        "\n",
        "def find_student(name):\n",
        "    \"\"\"Находит студента по имени и выводит его оценки и средний балл.\"\"\"\n",
        "    if name in students:\n",
        "        grades = students[name]\n",
        "        average = calculate_average(grades)\n",
        "        return grades, average\n",
        "    else:\n",
        "        return None\n",
        "\n",
        "if __name__ == \"__main__\":\n",
        "    while True:\n",
        "        print(\"\\nМеню:\")\n",
        "        print(\"1. Добавить студента\")\n",
        "        print(\"2. Показать всех студентов\")\n",
        "        print(\"3. Найти студента\")\n",
        "        print(\"4. Выход\")\n",
        "        choice = input(\"Выберите действие (1-4): \")\n",
        "\n",
        "        if choice == '1':\n",
        "            name = input(\"Введите имя студента: \")\n",
        "            grades_input = input(\"Введите оценки через пробел: \")\n",
        "            grades = [int(grade) for grade in grades_input.split()]\n",
        "            add_student(name, grades)\n",
        "            print(f\"Студент {name} добавлен.\")\n",
        "\n",
        "        elif choice == '2':\n",
        "            all_students = get_all_students()\n",
        "            print(\"Список студентов и их средние баллы:\")\n",
        "            for name, average in all_students.items():\n",
        "                print(f\"{name}: {average:.2f}\")\n",
        "\n",
        "        elif choice == '3':\n",
        "            name = input(\"Введите имя студента для поиска: \")\n",
        "            result = find_student(name)\n",
        "            if result:\n",
        "                grades, average = result\n",
        "                print(f\"Оценки студента {name}: {grades}, Средний балл: {average:.2f}\")\n",
        "            else:\n",
        "                print(f\"Студент с именем {name} не найден.\")\n",
        "\n",
        "        elif choice == '4':\n",
        "            print(\"Выход из программы.\")\n",
        "            break\n",
        "\n",
        "        else:\n",
        "            print(\"Неверный выбор. Пожалуйста, попробуйте снова.\")"
      ],
      "metadata": {
        "id": "cvhlltVbdyoL",
        "colab": {
          "base_uri": "https://localhost:8080/"
        },
        "outputId": "2b496a07-cb02-423b-c304-f81ae8f59548"
      },
      "execution_count": null,
      "outputs": [
        {
          "output_type": "stream",
          "name": "stdout",
          "text": [
            "\n",
            "Меню:\n",
            "1. Добавить студента\n",
            "2. Показать всех студентов\n",
            "3. Найти студента\n",
            "4. Выход\n",
            "Выберите действие (1-4): 1\n",
            "Введите имя студента: Дарья\n",
            "Введите оценки через пробел: 5 5 5 5 5 4 5 4 \n",
            "Студент Дарья добавлен.\n",
            "\n",
            "Меню:\n",
            "1. Добавить студента\n",
            "2. Показать всех студентов\n",
            "3. Найти студента\n",
            "4. Выход\n",
            "Выберите действие (1-4): 1\n",
            "Введите имя студента: Александр\n",
            "Введите оценки через пробел: 5 5 5 4 5 4 4 4 5\n",
            "Студент Александр добавлен.\n",
            "\n",
            "Меню:\n",
            "1. Добавить студента\n",
            "2. Показать всех студентов\n",
            "3. Найти студента\n",
            "4. Выход\n",
            "Выберите действие (1-4): 1\n",
            "Введите имя студента: Вадим\n",
            "Введите оценки через пробел: 5 5 5 3 5 4 5 4\n",
            "Студент Вадим добавлен.\n",
            "\n",
            "Меню:\n",
            "1. Добавить студента\n",
            "2. Показать всех студентов\n",
            "3. Найти студента\n",
            "4. Выход\n",
            "Выберите действие (1-4): 2\n",
            "Список студентов и их средние баллы:\n",
            "Дарья: 4.75\n",
            "Александр: 4.56\n",
            "Вадим: 4.50\n",
            "\n",
            "Меню:\n",
            "1. Добавить студента\n",
            "2. Показать всех студентов\n",
            "3. Найти студента\n",
            "4. Выход\n",
            "Выберите действие (1-4): 3\n",
            "Введите имя студента для поиска: Александр\n",
            "Оценки студента Александр: [5, 5, 5, 4, 5, 4, 4, 4, 5], Средний балл: 4.56\n",
            "\n",
            "Меню:\n",
            "1. Добавить студента\n",
            "2. Показать всех студентов\n",
            "3. Найти студента\n",
            "4. Выход\n",
            "Выберите действие (1-4): 4\n",
            "Выход из программы.\n"
          ]
        }
      ]
    },
    {
      "cell_type": "markdown",
      "source": [
        "# Задание 7\n",
        "\n",
        "\n",
        "**Задача:**\n",
        "\n",
        "Создайте приложение-викторину с командной строкой, которое задает пользователям вопросы по различным темам и отслеживает их результаты.\n",
        "\n",
        "Ключевые особенности:\n",
        "\n",
        "*   Хранение данных о вопросах и ответах на них, а также баллов за каждый вопрос\n",
        "*   Реализуйте функцию для представления вопросов, принятия ответов пользователей и предоставления обратной связи о том, являются ли ответы правильными или неправильными.\n",
        "*  После завершения викторины отобразите общий балл пользователя из числа ответов на вопросы.\n",
        "*  Реализуйте функцию добавления нового вопроса\n",
        "*  Реализуйте функцию перемешивания вопросов, для отображения случайного вопроса\n"
      ],
      "metadata": {
        "id": "iQ8Z-7PYgu1_"
      }
    },
    {
      "cell_type": "code",
      "source": [],
      "metadata": {
        "id": "DhxyYwHwh2V4"
      },
      "execution_count": null,
      "outputs": []
    }
  ]
}