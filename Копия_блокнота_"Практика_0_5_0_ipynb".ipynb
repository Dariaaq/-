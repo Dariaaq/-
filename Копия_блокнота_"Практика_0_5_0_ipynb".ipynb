{
  "nbformat": 4,
  "nbformat_minor": 0,
  "metadata": {
    "colab": {
      "provenance": [],
      "include_colab_link": true
    },
    "kernelspec": {
      "name": "python3",
      "display_name": "Python 3"
    },
    "language_info": {
      "name": "python"
    }
  },
  "cells": [
    {
      "cell_type": "markdown",
      "metadata": {
        "id": "view-in-github",
        "colab_type": "text"
      },
      "source": [
        "<a href=\"https://colab.research.google.com/github/Dariaaq/-/blob/main/%D0%9A%D0%BE%D0%BF%D0%B8%D1%8F_%D0%B1%D0%BB%D0%BE%D0%BA%D0%BD%D0%BE%D1%82%D0%B0_%22%D0%9F%D1%80%D0%B0%D0%BA%D1%82%D0%B8%D0%BA%D0%B0_0_5_0_ipynb%22.ipynb\" target=\"_parent\"><img src=\"https://colab.research.google.com/assets/colab-badge.svg\" alt=\"Open In Colab\"/></a>"
      ]
    },
    {
      "cell_type": "markdown",
      "source": [
        "ФИО:"
      ],
      "metadata": {
        "id": "Bu5gIJfHNPHw"
      }
    },
    {
      "cell_type": "code",
      "execution_count": null,
      "metadata": {
        "id": "CbHI8c7cM9Eg"
      },
      "outputs": [],
      "source": []
    },
    {
      "cell_type": "markdown",
      "source": [
        "# **Задание 1**"
      ],
      "metadata": {
        "id": "VrNrBpmocGRd"
      }
    },
    {
      "cell_type": "markdown",
      "source": [
        "\n",
        "\n",
        "Дан словарь, содержащий имена и возраст людей, напишите программу выводящую возраст человека по имени\n",
        "\n",
        "Дано:\n",
        "\n",
        "```\n",
        "{\"Alice\": 25, \"Bob\": 30, \"Charlie\": 35}\n",
        "```\n",
        "\n",
        "Вввод:\n",
        "\n",
        "\n",
        "```\n",
        "Alice\n",
        "```\n",
        "\n",
        "Вывод:\n",
        "\n",
        "\n",
        "```\n",
        "Alice 25\n",
        "```\n"
      ],
      "metadata": {
        "id": "XhV1bnm1bR2h"
      }
    },
    {
      "cell_type": "code",
      "source": [
        "people = {\"Алексей\": 30,\"Мария\": 25,\"Иван\": 22,\"Елена\": 28,\"Сергей\": 35}\n",
        "name = input(\"Введите имя человека: \")\n",
        "if name in people:\n",
        "     print(f\"{name}: {people[name]} лет\")\n",
        "else:\n",
        "    print(f\"Имя {name} не найдено в словаре.\")"
      ],
      "metadata": {
        "id": "PElJj6DvsgjD",
        "colab": {
          "base_uri": "https://localhost:8080/"
        },
        "outputId": "a73fd5c3-65db-4319-b61a-e583e7d9aac6"
      },
      "execution_count": null,
      "outputs": [
        {
          "output_type": "stream",
          "name": "stdout",
          "text": [
            "Введите имя человека: Сергей\n",
            "Сергей: 35 лет\n"
          ]
        }
      ]
    },
    {
      "cell_type": "markdown",
      "source": [
        "# **Задание 2**\n"
      ],
      "metadata": {
        "id": "lpjJz-_YcJ-t"
      }
    },
    {
      "cell_type": "markdown",
      "source": [
        "\n",
        "\n",
        "Дан список, состоящий из целых чисел, необходимо написать функцию считающую сумму всех положительных четных чисел списка\n",
        "\n",
        "Ввод:\n",
        "\n",
        "```\n",
        "1, 2, 3, 4, 5, 6, 7, 8, 9\n",
        "```\n",
        "\n",
        "Вывод:\n",
        "\n",
        "\n",
        "```\n",
        "20\n",
        "```\n",
        "\n",
        "***Запрещено:***\n",
        "\n",
        "*   Использование готовых функций для суммирования чисел\n"
      ],
      "metadata": {
        "id": "tMEsAB4rUiWW"
      }
    },
    {
      "cell_type": "code",
      "source": [
        "def sum_(numbers):\n",
        "    total_sum = 0\n",
        "    for number in numbers:\n",
        "        if number > 0 and number % 2 == 0:\n",
        "            total_sum += number\n",
        "    return total_sum\n",
        "\n",
        "input_list = [1, 2, 3, 4, 5, 6, 7, 8, 9]\n",
        "result = sum_(input_list)\n",
        "print(result)"
      ],
      "metadata": {
        "id": "wDNUFLeqNQS_",
        "colab": {
          "base_uri": "https://localhost:8080/"
        },
        "outputId": "139884e9-2bb1-45ab-afe1-6702cc1410c7"
      },
      "execution_count": null,
      "outputs": [
        {
          "output_type": "stream",
          "name": "stdout",
          "text": [
            "20\n"
          ]
        }
      ]
    },
    {
      "cell_type": "markdown",
      "source": [
        "# **Задание 3**"
      ],
      "metadata": {
        "id": "WT_v-vz1dUZJ"
      }
    },
    {
      "cell_type": "markdown",
      "source": [
        "Дан словарь, содержащий название фрукта и его цвет, выведите список всех желтых фруктов\n",
        "\n",
        "\n",
        "Дано:\n",
        "\n",
        "```\n",
        "fruits_and_colors = {\n",
        "    \"apple\": \"red\",\n",
        "    \"banana\": \"yellow\",\n",
        "    \"mango\": \"yellow\",\n",
        "    \"orange\": \"orange\",\n",
        "    \"lemon\": \"yellow\",\n",
        "    \"grape\": \"purple\"\n",
        "}\n",
        "```\n",
        "\n",
        "Вывод:\n",
        "\n",
        "\n",
        "```\n",
        "Yellow fruits:\n",
        "banana\n",
        "lemon\n",
        "mango\n",
        "```\n",
        "\n"
      ],
      "metadata": {
        "id": "ZI5Xeh2DdXgF"
      }
    },
    {
      "cell_type": "code",
      "source": [
        "fruits = { \"банан\": \"желтый\",\n",
        "    \"яблоко\": \"красный\",\n",
        "    \"лимон\": \"желтый\",\n",
        "    \"киви\": \"зеленый\",\n",
        "    \"ананас\": \"желтый\",\n",
        "    \"вишня\": \"красный\",\n",
        "    \"персик\": \"оранжевый\"}\n",
        "\n",
        "yellow_fruits = [fruit for fruit, color in fruits.items() if color == \"желтый\"]\n",
        "print(\"Желтые фрукты:\", yellow_fruits)"
      ],
      "metadata": {
        "id": "aNzFTkhKdkTG",
        "colab": {
          "base_uri": "https://localhost:8080/"
        },
        "outputId": "32f478c7-e9bf-430c-e7ed-d23f5dd59b1c"
      },
      "execution_count": null,
      "outputs": [
        {
          "output_type": "stream",
          "name": "stdout",
          "text": [
            "Желтые фрукты: ['банан', 'лимон', 'ананас']\n"
          ]
        }
      ]
    },
    {
      "cell_type": "markdown",
      "source": [
        "# **Задание 4**\n"
      ],
      "metadata": {
        "id": "iHtMGt2icM7w"
      }
    },
    {
      "cell_type": "markdown",
      "source": [
        "\n",
        "\n",
        "Дан словарь, необходимо написать функцию меняющую ключ и значение местами\n",
        "\n",
        "Дано:\n",
        "\n",
        "\n",
        "```\n",
        "{\"a\": 1, \"b\": 2, \"c\": 3}\n",
        "```\n",
        "\n",
        "Вывод:\n",
        "\n",
        "```\n",
        "{1: 'a', 2: 'b', 3: 'c'}\n",
        "```\n",
        "\n"
      ],
      "metadata": {
        "id": "rS3THsnBQ_EB"
      }
    },
    {
      "cell_type": "code",
      "source": [
        "def swap_(original_dict):\n",
        "    swapped_dict = {value: key for key, value in original_dict.items()}\n",
        "    return swapped_dict\n",
        "dict_ = {\"a\": \"1\",\"b\": \"2\",\"c\": \"3\"}\n",
        "swapped = swap_(dict_)\n",
        "print(\"Дано\", dict_)\n",
        "print(\"Вывод\", swapped)"
      ],
      "metadata": {
        "id": "MNRusyLDcQ59",
        "colab": {
          "base_uri": "https://localhost:8080/"
        },
        "outputId": "97e4d43d-4076-465b-e96e-f41239f78b48"
      },
      "execution_count": null,
      "outputs": [
        {
          "output_type": "stream",
          "name": "stdout",
          "text": [
            "Дано {'a': '1', 'b': '2', 'c': '3'}\n",
            "Вывод {'1': 'a', '2': 'b', '3': 'c'}\n"
          ]
        }
      ]
    },
    {
      "cell_type": "markdown",
      "source": [
        "# **Задание 5**"
      ],
      "metadata": {
        "id": "x6ff5nd0cUxD"
      }
    },
    {
      "cell_type": "markdown",
      "source": [
        "Дан список слов, неограниченной длинны, сформируйте словарь, где в качестве ключа будет слово, а в качестве значения количество слов\n",
        "\n",
        "**Критерии**\n",
        "\n",
        "\n",
        "*   Словарь необходимо отсортировать по убыванию количества элементов в списке.\n",
        "*   Подсчет элементов должен быть реализован в отдельной функции\n",
        "*   Сортировка пары `ключ:значение` должна быть реализована также в виде отдельной функции\n",
        "\n",
        "\n",
        "\n",
        "\n",
        "Дано:\n",
        "```\n",
        "['apple','banana','orange','apple','apple','banana']\n",
        "```\n",
        "\n",
        "\n",
        "Вывод:\n",
        "```\n",
        "{'apple':3, 'banana': 2, 'orange': 1}\n",
        "```\n",
        "\n",
        "***Запрещено:***\n",
        "\n",
        "*   Использование готовых функций для сортировки\n",
        "*   Использование готовых функций для подсчета элементов\n",
        "\n"
      ],
      "metadata": {
        "id": "ypQNHOG4NQz3"
      }
    },
    {
      "cell_type": "code",
      "source": [
        "def count_words(word_list):\n",
        "    \"\"\"Функция для подсчета количества слов в списке.\"\"\"\n",
        "    word_count = {}\n",
        "    for word in word_list:\n",
        "        if word in word_count:\n",
        "            word_count[word] += 1\n",
        "        else:\n",
        "            word_count[word] = 1\n",
        "    return word_count\n",
        "\n",
        "def sort_dict(input_dict):\n",
        "    \"\"\"Функция для сортировки словаря по значениям по убыванию.\"\"\"\n",
        "    items = list(input_dict.items())\n",
        "\n",
        "\n",
        "    n = len(items)\n",
        "    for i in range(n):\n",
        "        for j in range(0, n-i-1):\n",
        "            if items[j][1] < items[j+1][1]:\n",
        "                items[j], items[j+1] = items[j+1], items[j]\n",
        "\n",
        "\n",
        "    sorted_dict = {}\n",
        "    for key, value in items:\n",
        "        sorted_dict[key] = value\n",
        "\n",
        "    return sorted_dict\n",
        "\n",
        "\n",
        "words = ['apple', 'banana', 'orange', 'apple', 'apple', 'banana']\n",
        "word_count = count_words(words)\n",
        "sorted_word_count = sort_dict(word_count)\n",
        "print(sorted_word_count)"
      ],
      "metadata": {
        "id": "J10PjdVQUbyq",
        "colab": {
          "base_uri": "https://localhost:8080/"
        },
        "outputId": "196d8daa-9b73-43ac-8f91-f7d444b4a8fd"
      },
      "execution_count": null,
      "outputs": [
        {
          "output_type": "stream",
          "name": "stdout",
          "text": [
            "{'apple': 3, 'banana': 2, 'orange': 1}\n"
          ]
        }
      ]
    },
    {
      "cell_type": "markdown",
      "source": [
        "# **Задание 6**"
      ],
      "metadata": {
        "id": "d7fDUr2WcY_G"
      }
    },
    {
      "cell_type": "markdown",
      "source": [
        "Дан словарь, содержащий информацию о людях, необходимо:\n",
        "\n",
        "\n",
        "\n",
        "*   Вывести всех людей старше 30 лет\n",
        "*   Вывести список городов и количество людей из словаря проживающих в них\n",
        "*   Вывести список профессий и список людей для каждой профессии\n",
        "\n",
        "**Критерии**\n",
        "\n",
        "Каждый из пунктов необходимо реализовать в виде функции\n",
        "\n"
      ],
      "metadata": {
        "id": "m11qdVhSWBi7"
      }
    },
    {
      "cell_type": "code",
      "source": [
        "people_info = {\n",
        "    \"Alice\": {\"age\": 25, \"city\": \"New York\", \"occupation\": \"Engineer\"},\n",
        "    \"Bob\": {\"age\": 30, \"city\": \"Los Angeles\", \"occupation\": \"Designer\"},\n",
        "    \"Charlie\": {\"age\": 35, \"city\": \"Chicago\", \"occupation\": \"Teacher\"},\n",
        "    \"Diana\": {\"age\": 28, \"city\": \"Miami\", \"occupation\": \"Doctor\"},\n",
        "    \"Ethan\": {\"age\": 40, \"city\": \"Seattle\", \"occupation\": \"Chef\"},\n",
        "    \"Frank\": {\"age\": 32, \"city\": \"Atlanta\", \"occupation\": \"Lawyer\"},\n",
        "    \"Gabriella\": {\"age\": 29, \"city\": \"San Francisco\", \"occupation\": \"Software Engineer\"},\n",
        "    \"Harrison\": {\"age\": 38, \"city\": \"Denver\", \"occupation\": \"Architect\"},\n",
        "    \"Isabella\": {\"age\": 26, \"city\": \"Washington D.C.\", \"occupation\": \"Journalist\"},\n",
        "    \"Julian\": {\"age\": 42, \"city\": \"Miami\", \"occupation\": \"Musician\"},\n",
        "    \"Kate\": {\"age\": 31, \"city\": \"Philadelphia\", \"occupation\": \"Nurse\"},\n",
        "    \"Lucas\": {\"age\": 36, \"city\": \"Nashville\", \"occupation\": \"Businessman\"},\n",
        "    \"Mia\": {\"age\": 27, \"city\": \"Atlanta\", \"occupation\": \"Artist\"},\n",
        "    \"Natalie\": {\"age\": 39, \"city\": \"Portland\", \"occupation\": \"Writer\"},\n",
        "    \"Oliver\": {\"age\": 44, \"city\": \"Minneapolis\", \"occupation\": \"Professor\"},\n",
        "    \"Penelope\": {\"age\": 33, \"city\": \"San Diego\", \"occupation\": \"Marketing Manager\"},\n",
        "    \"Quincy\": {\"age\": 41, \"city\": \"Nashville\", \"occupation\": \"Singer\"},\n",
        "    \"Rachel\": {\"age\": 34, \"city\": \"Cleveland\", \"occupation\": \"Teacher\"},\n",
        "    \"Sophia\": {\"age\": 29, \"city\": \"Nashville\", \"occupation\": \"Engineer\"},\n",
        "    \"Tessa\": {\"age\": 37, \"city\": \"Miami\", \"occupation\": \"Lawyer\"},}\n",
        "\n",
        "def people_older_than_30(people):\n",
        "    \"\"\"Выводит всех людей старше 30 лет.\"\"\"\n",
        "    print(\"Люди старше 30 лет:\")\n",
        "    for name, info in people.items():\n",
        "        if info[\"age\"] > 30:\n",
        "            print(name)\n",
        "\n",
        "def count_people_by_city(people):\n",
        "    \"\"\"Выводит список городов и количество людей, проживающих в них.\"\"\"\n",
        "    city_count = {}\n",
        "    for info in people.values():\n",
        "        city = info[\"city\"]\n",
        "        if city in city_count:\n",
        "            city_count[city] += 1\n",
        "        else:\n",
        "            city_count[city] = 1\n",
        "\n",
        "    print(\"\\nКоличество людей по городам:\")\n",
        "    for city, count in city_count.items():\n",
        "        print(f\"{city}: {count}\")\n",
        "\n",
        "def group_people_by_profession(people):\n",
        "    \"\"\"Выводит список профессий и список людей для каждой профессии.\"\"\"\n",
        "    profession_dict = {}\n",
        "    for name, info in people.items():\n",
        "        profession = info[\"occupation\"]\n",
        "        if profession in profession_dict:\n",
        "            profession_dict[profession].append(name)\n",
        "        else:\n",
        "            profession_dict[profession] = [name]\n",
        "\n",
        "    print(\"\\nСписок профессий и люди для каждой профессии:\")\n",
        "    for profession, names in profession_dict.items():\n",
        "        print(f\"{profession}: {', '.join(names)}\")\n",
        "\n",
        "# Вызов функций\n",
        "people_older_than_30(people_info)\n",
        "count_people_by_city(people_info)\n",
        "group_people_by_profession(people_info)"
      ],
      "metadata": {
        "id": "lSNtB39OWtFl",
        "colab": {
          "base_uri": "https://localhost:8080/"
        },
        "outputId": "db7b6542-fb1a-4e20-93fe-8a5122db2e11"
      },
      "execution_count": null,
      "outputs": [
        {
          "output_type": "stream",
          "name": "stdout",
          "text": [
            "Люди старше 30 лет:\n",
            "Charlie\n",
            "Ethan\n",
            "Frank\n",
            "Harrison\n",
            "Julian\n",
            "Kate\n",
            "Lucas\n",
            "Natalie\n",
            "Oliver\n",
            "Penelope\n",
            "Quincy\n",
            "Rachel\n",
            "Tessa\n",
            "\n",
            "Количество людей по городам:\n",
            "New York: 1\n",
            "Los Angeles: 1\n",
            "Chicago: 1\n",
            "Miami: 3\n",
            "Seattle: 1\n",
            "Atlanta: 2\n",
            "San Francisco: 1\n",
            "Denver: 1\n",
            "Washington D.C.: 1\n",
            "Philadelphia: 1\n",
            "Nashville: 3\n",
            "Portland: 1\n",
            "Minneapolis: 1\n",
            "San Diego: 1\n",
            "Cleveland: 1\n",
            "\n",
            "Список профессий и люди для каждой профессии:\n",
            "Engineer: Alice, Sophia\n",
            "Designer: Bob\n",
            "Teacher: Charlie, Rachel\n",
            "Doctor: Diana\n",
            "Chef: Ethan\n",
            "Lawyer: Frank, Tessa\n",
            "Software Engineer: Gabriella\n",
            "Architect: Harrison\n",
            "Journalist: Isabella\n",
            "Musician: Julian\n",
            "Nurse: Kate\n",
            "Businessman: Lucas\n",
            "Artist: Mia\n",
            "Writer: Natalie\n",
            "Professor: Oliver\n",
            "Marketing Manager: Penelope\n",
            "Singer: Quincy\n"
          ]
        }
      ]
    },
    {
      "cell_type": "code",
      "source": [],
      "metadata": {
        "id": "e-I4RAxfKt6l"
      },
      "execution_count": null,
      "outputs": []
    },
    {
      "cell_type": "markdown",
      "source": [
        "# **Задание 7**"
      ],
      "metadata": {
        "id": "27IuB2YScezw"
      }
    },
    {
      "cell_type": "markdown",
      "source": [
        "Задание: Разработка системы отзывов о предметах\n",
        "\n",
        "Описание: Создать программу на Python для хранения и управления отзывами о предметах учебного курса. Программа должна позволять пользователям добавлять, просматривать и удалять отзывы, а также вычислять средний балл по заданному предмету.\n",
        "\n",
        "**Функционал:**\n",
        "\n",
        "*   Добавление отзыва и оценки:\n",
        "   *   Пользователь может ввести название предмета, оценку (от 1 до 5) и текст отзыва.\n",
        "   *   Отзывы должны храниться в структуре данных (например, словаре), где ключом будет название предмета, а значением - список отзывов (каждый отзыв может хранить оценку и комментарий).\n",
        "*   Просмотр отзывов и оценок:\n",
        "   *   Пользователь может запросить отзывы для указанного предмета.\n",
        "   *   Если для указанного предмета есть отзывы, программа должна отобразить список всех отзывов и соответствующих оценок.\n",
        "*   Удаление отзыва:\n",
        "   *   Пользователь может удалить отзыв по индексу. Необходимо заранее уведомить пользователя о том, какие отзывы доступны для удаления.\n",
        "   *   Программа должна обработать ситуацию, когда индекс введен неправильно.\n",
        "*   Вычисление среднего балла по предмету:\n",
        "   *   Пользователь может ввести название предмета, и программа должна вычислить и вывести средний балл по всем отзывам для этого предмета.\n",
        "   *   Если отзывов нет, программа должна сообщить об этом.\n",
        "\n",
        "\n",
        "**Критерии:**\n",
        "\n",
        "*   Код должен быть оформлен в виде функций\n",
        "*   Необходимо обрабатывать неправильный ввод пользователя\n",
        "*   Должны быть комментарии к функциям\n",
        "*   Присутсвует весь дополнительный функционал\n",
        "\n",
        "\n",
        "\n",
        "**Опционально:**\n",
        "\n",
        "Предлагаю вам добавить свои критерии оценки или вопросы, на которые должен ответить студент, чтобы оценить пару\n",
        "\n",
        "\n"
      ],
      "metadata": {
        "id": "Fd95-S9cYhct"
      }
    },
    {
      "cell_type": "code",
      "source": [],
      "metadata": {
        "id": "kzucJrCUa0o7"
      },
      "execution_count": null,
      "outputs": []
    }
  ]
}