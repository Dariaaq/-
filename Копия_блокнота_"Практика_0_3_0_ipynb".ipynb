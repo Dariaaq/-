{
  "cells": [
    {
      "cell_type": "markdown",
      "metadata": {
        "id": "view-in-github",
        "colab_type": "text"
      },
      "source": [
        "<a href=\"https://colab.research.google.com/github/Dariaaq/-/blob/main/%D0%9A%D0%BE%D0%BF%D0%B8%D1%8F_%D0%B1%D0%BB%D0%BE%D0%BA%D0%BD%D0%BE%D1%82%D0%B0_%22%D0%9F%D1%80%D0%B0%D0%BA%D1%82%D0%B8%D0%BA%D0%B0_0_3_0_ipynb%22.ipynb\" target=\"_parent\"><img src=\"https://colab.research.google.com/assets/colab-badge.svg\" alt=\"Open In Colab\"/></a>"
      ]
    },
    {
      "cell_type": "markdown",
      "metadata": {
        "id": "phMKaFq3DN13"
      },
      "source": [
        "ФИО"
      ]
    },
    {
      "cell_type": "code",
      "execution_count": null,
      "metadata": {
        "id": "3CWpaI7SDK8t"
      },
      "outputs": [],
      "source": []
    },
    {
      "cell_type": "markdown",
      "metadata": {
        "id": "jyIy3GOgFOCe"
      },
      "source": [
        "**Во всей практике нельзя применять библиотеки предоставляющие готовые решения!**"
      ]
    },
    {
      "cell_type": "markdown",
      "metadata": {
        "id": "XizmlL1RK2t3"
      },
      "source": [
        "# **Задача 1.**\n"
      ]
    },
    {
      "cell_type": "markdown",
      "metadata": {
        "id": "p0v6KtHTFKSd"
      },
      "source": [
        "\n",
        "\n",
        "Типы данных Напишите программу на Python, которая принимает список чисел в качестве входных данных от пользователя, а затем выводит сумму, среднее значение и максимальное значение из списка.\n",
        "\n",
        "***Нельзя использовать: len(), min(), max(), average(), sum()***\n",
        "\n",
        "Ввод:\n",
        "```\n",
        "1 2 3 4 5 6 7\n",
        "```\n",
        "Вывод:\n",
        "\n",
        "```\n",
        "Сумма чисел: 28\n",
        "Среднее арифм.: 4.0\n",
        "Максимальное значение: 7\n",
        "```\n",
        "\n"
      ]
    },
    {
      "cell_type": "code",
      "execution_count": null,
      "metadata": {
        "colab": {
          "base_uri": "https://localhost:8080/"
        },
        "id": "0e1Virl0FpF6",
        "outputId": "45260971-a886-4a1e-b950-8e1d2e0a62c8"
      },
      "outputs": [
        {
          "name": "stdout",
          "output_type": "stream",
          "text": [
            "1 2 3 4 5 12 15 18\n",
            "Сумма чисел: 60\n",
            "Среднее арифметическое: 7.5\n",
            "Максимальное значение: 18\n"
          ]
        }
      ],
      "source": [
        "a = list(map(int,input().split()))\n",
        "d=0\n",
        "s=0\n",
        "n=-10**10\n",
        "c=0\n",
        "for i in list(a): #рассчитывает сумму чисел\n",
        "  s=s+i\n",
        "print('Сумма чисел:', s)\n",
        "for i in list(a): # рассчитывает среднее арифметическое\n",
        "  c=c+i\n",
        "  d+=1\n",
        "print('Среднее арифметическое:', c/d) #рассчитывает максимальное значение\n",
        "for i in list(a):\n",
        "  if i>n:\n",
        "    n=i\n",
        "print('Максимальное значение:',n)"
      ]
    },
    {
      "cell_type": "markdown",
      "metadata": {
        "id": "uFluc5OSK0NH"
      },
      "source": [
        "# **Задача 2.**"
      ]
    },
    {
      "cell_type": "markdown",
      "metadata": {
        "id": "6T8vg324GG4Z"
      },
      "source": [
        "\n",
        "Напишите программу на Python, которая принимает список слов в качестве входных данных от пользователя, а затем распечатывает список в обратном порядке.\n",
        "\n",
        "Ввод:\n",
        "\n",
        "```\n",
        "апельсин мандарин яблоко\n",
        "```\n",
        "\n",
        "Вывод:\n",
        "\n",
        "```\n",
        "яблоко мандарин апельсин\n",
        "```"
      ]
    },
    {
      "cell_type": "code",
      "execution_count": null,
      "metadata": {
        "colab": {
          "base_uri": "https://localhost:8080/"
        },
        "id": "v3AWj4ufGKox",
        "outputId": "65d7c8ef-7518-40ee-a86d-f16821cd19d6"
      },
      "outputs": [
        {
          "name": "stdout",
          "output_type": "stream",
          "text": [
            "вадим прога пятница\n",
            "['пятница', 'прога', 'вадим']\n"
          ]
        }
      ],
      "source": [
        "a = list(map(str,input().split()))\n",
        "print(a[::-1])"
      ]
    },
    {
      "cell_type": "markdown",
      "metadata": {
        "id": "D1KkCxtIKxRx"
      },
      "source": [
        "# **Задача 3**"
      ]
    },
    {
      "cell_type": "markdown",
      "metadata": {
        "id": "Yq8Jgb9yHvSi"
      },
      "source": [
        "Простой чат-бот\n",
        "Создайте простого чат-бота, который отвечает на основные запросы пользователей. Программа должна использовать условные выражения для определения намерений пользователя и последующего соответствующего ответа.\n",
        "\n",
        "Чат бот может:\n",
        "\n",
        "- помогать складывать числа\n",
        "- подсказывать фильм, музыку и тд (из заранее созданного списка)\n",
        "- создавать список дел (а также выводить его, обновлять, очищать)\n",
        "\n",
        "Интерфейс чат-бота на ваше усмотрение, это могут быть как заранее определенные команды, так и к примеру вызов команды по номеру\n",
        "\n",
        "*Реализовать без использования функций*\n",
        "\n",
        "Пример:\n",
        "\n",
        "Ввод:\n",
        "\n",
        "```\n",
        "Олег, какую мызыку посоветуешь?\n",
        "```\n",
        "\n",
        "Вывод:\n",
        "\n",
        "```\n",
        "Я бы посоветовал вам: Led Zeppelin Stairway to Heaven\n",
        "```"
      ]
    },
    {
      "cell_type": "code",
      "execution_count": null,
      "metadata": {
        "colab": {
          "base_uri": "https://localhost:8080/",
          "height": 477
        },
        "id": "fmW-tmUtINN9",
        "outputId": "26a7cc93-3422-4f10-e8d7-8bb31e600c8f"
      },
      "outputs": [
        {
          "name": "stdout",
          "output_type": "stream",
          "text": [
            "Это Олег. Он тебе поможет в подсказать фильмы, музыку, игры, а также поможет в сложении чисел. Также с помощью него можно создать список с делами, и работать с ним\n",
            "музыка\n",
            "Я бы посоветовал вам: Тринадцать карат - Во снах\n",
            "фильм\n",
            "Я бы посоветовал вам: Назад в будущее\n",
            "игра\n",
            "сумма\n"
          ]
        },
        {
          "output_type": "error",
          "ename": "KeyboardInterrupt",
          "evalue": "Interrupted by user",
          "traceback": [
            "\u001b[0;31m---------------------------------------------------------------------------\u001b[0m",
            "\u001b[0;31mKeyboardInterrupt\u001b[0m                         Traceback (most recent call last)",
            "\u001b[0;32m<ipython-input-1-815d2c99f3ce>\u001b[0m in \u001b[0;36m<cell line: 7>\u001b[0;34m()\u001b[0m\n\u001b[1;32m      6\u001b[0m \u001b[0;34m\u001b[0m\u001b[0m\n\u001b[1;32m      7\u001b[0m \u001b[0;32mwhile\u001b[0m \u001b[0;34m'Хватит'\u001b[0m \u001b[0;32mnot\u001b[0m \u001b[0;32min\u001b[0m \u001b[0min_p\u001b[0m\u001b[0;34m:\u001b[0m\u001b[0;34m\u001b[0m\u001b[0;34m\u001b[0m\u001b[0m\n\u001b[0;32m----> 8\u001b[0;31m   \u001b[0min_p\u001b[0m \u001b[0;34m=\u001b[0m \u001b[0mlist\u001b[0m\u001b[0;34m(\u001b[0m\u001b[0mmap\u001b[0m\u001b[0;34m(\u001b[0m\u001b[0mstr\u001b[0m\u001b[0;34m,\u001b[0m\u001b[0minput\u001b[0m\u001b[0;34m(\u001b[0m\u001b[0;34m)\u001b[0m\u001b[0;34m.\u001b[0m\u001b[0msplit\u001b[0m\u001b[0;34m(\u001b[0m\u001b[0;34m)\u001b[0m\u001b[0;34m)\u001b[0m\u001b[0;34m)\u001b[0m \u001b[0;31m#Ввод запроса\u001b[0m\u001b[0;34m\u001b[0m\u001b[0;34m\u001b[0m\u001b[0m\n\u001b[0m\u001b[1;32m      9\u001b[0m \u001b[0;34m\u001b[0m\u001b[0m\n\u001b[1;32m     10\u001b[0m   \u001b[0;34m'''списки'''\u001b[0m\u001b[0;34m\u001b[0m\u001b[0;34m\u001b[0m\u001b[0m\n",
            "\u001b[0;32m/usr/local/lib/python3.10/dist-packages/ipykernel/kernelbase.py\u001b[0m in \u001b[0;36mraw_input\u001b[0;34m(self, prompt)\u001b[0m\n\u001b[1;32m    849\u001b[0m                 \u001b[0;34m\"raw_input was called, but this frontend does not support input requests.\"\u001b[0m\u001b[0;34m\u001b[0m\u001b[0;34m\u001b[0m\u001b[0m\n\u001b[1;32m    850\u001b[0m             )\n\u001b[0;32m--> 851\u001b[0;31m         return self._input_request(str(prompt),\n\u001b[0m\u001b[1;32m    852\u001b[0m             \u001b[0mself\u001b[0m\u001b[0;34m.\u001b[0m\u001b[0m_parent_ident\u001b[0m\u001b[0;34m,\u001b[0m\u001b[0;34m\u001b[0m\u001b[0;34m\u001b[0m\u001b[0m\n\u001b[1;32m    853\u001b[0m             \u001b[0mself\u001b[0m\u001b[0;34m.\u001b[0m\u001b[0m_parent_header\u001b[0m\u001b[0;34m,\u001b[0m\u001b[0;34m\u001b[0m\u001b[0;34m\u001b[0m\u001b[0m\n",
            "\u001b[0;32m/usr/local/lib/python3.10/dist-packages/ipykernel/kernelbase.py\u001b[0m in \u001b[0;36m_input_request\u001b[0;34m(self, prompt, ident, parent, password)\u001b[0m\n\u001b[1;32m    893\u001b[0m             \u001b[0;32mexcept\u001b[0m \u001b[0mKeyboardInterrupt\u001b[0m\u001b[0;34m:\u001b[0m\u001b[0;34m\u001b[0m\u001b[0;34m\u001b[0m\u001b[0m\n\u001b[1;32m    894\u001b[0m                 \u001b[0;31m# re-raise KeyboardInterrupt, to truncate traceback\u001b[0m\u001b[0;34m\u001b[0m\u001b[0;34m\u001b[0m\u001b[0m\n\u001b[0;32m--> 895\u001b[0;31m                 \u001b[0;32mraise\u001b[0m \u001b[0mKeyboardInterrupt\u001b[0m\u001b[0;34m(\u001b[0m\u001b[0;34m\"Interrupted by user\"\u001b[0m\u001b[0;34m)\u001b[0m \u001b[0;32mfrom\u001b[0m \u001b[0;32mNone\u001b[0m\u001b[0;34m\u001b[0m\u001b[0;34m\u001b[0m\u001b[0m\n\u001b[0m\u001b[1;32m    896\u001b[0m             \u001b[0;32mexcept\u001b[0m \u001b[0mException\u001b[0m \u001b[0;32mas\u001b[0m \u001b[0me\u001b[0m\u001b[0;34m:\u001b[0m\u001b[0;34m\u001b[0m\u001b[0;34m\u001b[0m\u001b[0m\n\u001b[1;32m    897\u001b[0m                 \u001b[0mself\u001b[0m\u001b[0;34m.\u001b[0m\u001b[0mlog\u001b[0m\u001b[0;34m.\u001b[0m\u001b[0mwarning\u001b[0m\u001b[0;34m(\u001b[0m\u001b[0;34m\"Invalid Message:\"\u001b[0m\u001b[0;34m,\u001b[0m \u001b[0mexc_info\u001b[0m\u001b[0;34m=\u001b[0m\u001b[0;32mTrue\u001b[0m\u001b[0;34m)\u001b[0m\u001b[0;34m\u001b[0m\u001b[0;34m\u001b[0m\u001b[0m\n",
            "\u001b[0;31mKeyboardInterrupt\u001b[0m: Interrupted by user"
          ]
        }
      ],
      "source": [
        "import random\n",
        "\n",
        "'''Основная часть'''\n",
        "print('Это Олег. Он тебе поможет в подсказать фильмы, музыку, игры, а также поможет в сложении чисел. Также с помощью него можно создать список с делами, и работать с ним') #Возможности чатбота\n",
        "in_p=[]\n",
        "\n",
        "while 'Хватит' not in in_p:\n",
        "  in_p = list(map(str,input().split())) #Ввод запроса\n",
        "\n",
        "  '''списки'''\n",
        "  list_mus=[\"Три дня дождя - Прощание\", \"Тринадцать карат - Во снах\", \"Сергей Лазарев - Снег в океане\", \"MILKOVSKIY - Становится ясней\", \"Нервы - Нервы\"] #Песни\n",
        "  if ('музыку' in in_p) or ('музыка' in in_p): #Музыка\n",
        "    print('Я бы посоветовал вам:', list_mus[(random.randrange(0,5,1))])\n",
        "\n",
        "  list_mov=['Назад в будущее', 'Бесстыжие', 'Проект Х: дорвались', 'Побег из Шоушенка', 'Волк с Уоллстрит'] #фильмы\n",
        "  if ('фильм' in in_p) or ('фильмы' in in_p): #Фильмы\n",
        "    print('Я бы посоветовал вам:', list_mov[(random.randrange(0,5,1))])\n",
        "\n",
        "  list_gam=['minecraft', \"дурак онлайн\", \"among us\", \"angry birds\", \"candy crush\"] #игры\n",
        "  if ('игру' in in_p) or ('игры' in in_p): #Игры\n",
        "    print('Я бы посоветовал вам:', list_gam[(random.randrange(0,5,1))])\n",
        "\n",
        "  '''Блок с числами'''\n",
        "  if ('+' in in_p) or ('сложить' in in_p) or ('сумму' in in_p) or ('суммы' in in_p): #Сложение\n",
        "    smm = list(map(int,input('Введите числа: x x x x...').split()))\n",
        "    s1=sum(smm)\n",
        "    print('Сумма:', s1)\n",
        "\n",
        "  '''Блок с списком дел на сегодня'''\n",
        "  list_dela=[]\n",
        "  if ('список' in in_p) or ('дела' in in_p):\n",
        "    print(list_dela)\n",
        "\n",
        "  if ('добавить' in in_p) or ('внести' in in_p):\n",
        "    txt_dela=input('Введите задачу:')\n",
        "    print('Задача успешно добавлена!', list_dela)\n",
        "\n",
        "  if ('очистить' in in_p) or ('почисти' in in_p):\n",
        "    list_dela.clear()\n",
        "    print('Список дел очищен', list_dela)"
      ]
    },
    {
      "cell_type": "code",
      "execution_count": null,
      "metadata": {
        "id": "X_qBGHh97nYc"
      },
      "outputs": [],
      "source": [
        "т"
      ]
    },
    {
      "cell_type": "markdown",
      "metadata": {
        "id": "PHXBfyc6Ko7D"
      },
      "source": [
        "# **Задача 4.**\n"
      ]
    },
    {
      "cell_type": "markdown",
      "metadata": {
        "id": "jnKWeYleI0j6"
      },
      "source": [
        "Камень, ножницы, бумага\n",
        "\n",
        "Создайте игру в Камень, ножницы, бумагу, в которой пользователь может играть против компьютера. Программа должна запросить выбор пользователя, а затем сгенерировать выбор компьютера. Затем программа должна определить победителя на основе правил игры.\n",
        "\n",
        "**Этап 1:**\n",
        "\n",
        "Определение победителя\n",
        "\n",
        "**Этап 2:**\n",
        "  \n",
        "Игра до 3 побед\n",
        "\n",
        "\n",
        "Ввод для \"Этап 1\":\n",
        "\n",
        "```\n",
        "Камень\n",
        "```\n",
        "\n",
        "Вывод:\n",
        "\n",
        "```\n",
        "Компьютер: Ножницы\n",
        "Игрок: Камень\n",
        "Победа: Игрок\n",
        "```"
      ]
    },
    {
      "cell_type": "code",
      "execution_count": null,
      "metadata": {
        "colab": {
          "background_save": true,
          "base_uri": "https://localhost:8080/"
        },
        "id": "ooIPCRe_JHkX",
        "outputId": "0c985214-7af8-4308-81ed-472ed20554ce"
      },
      "outputs": [
        {
          "name": "stdout",
          "output_type": "stream",
          "text": [
            "Компютер:  Бумага\n",
            "Компютер:  Ножницы\n",
            "Компютер:  Ножницы\n",
            "Компютер:  Бумага\n",
            "Компютер:  Ножницы\n"
          ]
        }
      ],
      "source": [
        "import random\n",
        "def f1(n): #Перевод в числа\n",
        "  if n=='Камень':\n",
        "    n = 3\n",
        "    return n\n",
        "\n",
        "  if n=='Ножницы':\n",
        "    n = 2\n",
        "    return n\n",
        "\n",
        "  if n=='Бумага':\n",
        "    n = 1\n",
        "    return n\n",
        "\n",
        "def f2(n): #Перевод из чисел\n",
        "  if n == 3:\n",
        "    n='Камень'\n",
        "    return n\n",
        "\n",
        "  if n == 2:\n",
        "    n='Ножницы'\n",
        "    return n\n",
        "\n",
        "  if n == 1:\n",
        "    n='Бумага'\n",
        "    return n\n",
        "\n",
        "win = [] #Cписок побед\n",
        "\n",
        "while win.count('И')!=3 and win.count('К')<=2:\n",
        "  in_p = input('Игрок: ')\n",
        "  in_comp = random.randrange(1,3,1)\n",
        "  print('Компютер: ', f2(in_comp))\n",
        "\n",
        "if f1(in_p)<in_comp:\n",
        "  print('Победа: Компьютер')\n",
        "  win.append('К')\n",
        "elif (f1(in_p)==3 and in_comp==1):\n",
        "  print('Победа: Компьютер')\n",
        "  win.append('К')\n",
        "elif (f1(in_p)==1 and in_comp==3):\n",
        "  print('Победа: Игрок')\n",
        "  win.append('И')\n",
        "elif f1(in_p)==in_comp:\n",
        "  print('Победа: Ничья')\n",
        "else:\n",
        "  print('Победа: Игрок')\n",
        "  win.append('И')\n",
        "print('-'*100)\n",
        "if win.count('К')>win.count('И'):\n",
        "  print('Компьютер выиграл!')\n",
        "elif win.count('К')==win.count('И'):\n",
        "  print('Ничья')\n",
        "else:\n",
        "  print('Игрок выиграл!')"
      ]
    },
    {
      "cell_type": "markdown",
      "metadata": {
        "id": "Hg4FJNFbLHQO"
      },
      "source": [
        "# **Задача 5.**"
      ]
    },
    {
      "cell_type": "markdown",
      "metadata": {
        "id": "OHqj3HJuLJgY"
      },
      "source": [
        "Создайте игру \"Палач\" или \"Виселица\", в которой пользователь должен угадать слово, предлагая буквы. Программа должна выбрать случайное слово, а затем разрешить пользователю угадывать буквы. После каждого угадывания программа должна сообщать пользователю, есть ли в слове буква или нет.\n",
        "\n",
        "**Этап 1**\n",
        "Создать саму игру (игра должна иметь привлекательный интерфейс, соотвесвующий классической висилице)\n",
        "\n",
        "**Этап 2:**\n",
        "Ввести подсчет количества очков и ограничения на попытки\n",
        "\n",
        "**Этап 3:** Добавить возможность сразу угадать слово"
      ]
    },
    {
      "cell_type": "code",
      "execution_count": null,
      "metadata": {
        "id": "0N2zCYwVLiIw"
      },
      "outputs": [],
      "source": []
    },
    {
      "cell_type": "markdown",
      "metadata": {
        "id": "w0x3QFGzKtDD"
      },
      "source": [
        "# **Дополнительно: Задача 6.**\n"
      ]
    },
    {
      "cell_type": "markdown",
      "metadata": {
        "id": "QqZArcpHJxVj"
      },
      "source": [
        "\n",
        "**Цифра на определенном месте:**\n",
        "\n",
        "Последовательно записан натуральный ряд чисел.\n",
        "\n",
        "Какая цифра стоит в N позиции\n",
        "\n",
        "\n",
        "Вввод:\n",
        "\n",
        "```\n",
        "Введите номер позиции: 1234567890\n",
        "```\n",
        "\n",
        "Вывод:\n",
        "\n",
        "```\n",
        "8\n",
        "```"
      ]
    },
    {
      "cell_type": "code",
      "execution_count": null,
      "metadata": {
        "id": "LwjYwBGcKiJ9"
      },
      "outputs": [],
      "source": []
    }
  ],
  "metadata": {
    "colab": {
      "provenance": [],
      "include_colab_link": true
    },
    "kernelspec": {
      "display_name": "Python 3",
      "name": "python3"
    },
    "language_info": {
      "name": "python"
    }
  },
  "nbformat": 4,
  "nbformat_minor": 0
}